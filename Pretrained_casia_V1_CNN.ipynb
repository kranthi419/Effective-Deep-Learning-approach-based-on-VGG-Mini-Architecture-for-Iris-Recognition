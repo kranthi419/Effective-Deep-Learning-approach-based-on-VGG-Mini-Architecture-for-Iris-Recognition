{
  "nbformat": 4,
  "nbformat_minor": 0,
  "metadata": {
    "colab": {
      "name": "Pretrained_casia_V1_CNN.ipynb",
      "provenance": [],
      "collapsed_sections": []
    },
    "kernelspec": {
      "name": "python3",
      "display_name": "Python 3"
    },
    "accelerator": "GPU"
  },
  "cells": [
    {
      "cell_type": "code",
      "metadata": {
        "colab": {
          "base_uri": "https://localhost:8080/"
        },
        "id": "snndGbfqM32p",
        "outputId": "9c87d811-0241-4e6e-d4f8-836cac6dffbc"
      },
      "source": [
        "from google.colab import drive\n",
        "drive.mount('/content/drive')"
      ],
      "execution_count": null,
      "outputs": [
        {
          "output_type": "stream",
          "text": [
            "Drive already mounted at /content/drive; to attempt to forcibly remount, call drive.mount(\"/content/drive\", force_remount=True).\n"
          ],
          "name": "stdout"
        }
      ]
    },
    {
      "cell_type": "code",
      "metadata": {
        "id": "ohFblfTFn2JR"
      },
      "source": [
        "DATADIR = '/content/drive/MyDrive/Colab Notebooks/CASIA_V1/CASIA_Normalized_Iris'"
      ],
      "execution_count": null,
      "outputs": []
    },
    {
      "cell_type": "code",
      "metadata": {
        "id": "ctWUeX0YiI2T"
      },
      "source": [
        "import numpy as np\n",
        "import cv2\n",
        "import os\n",
        "import matplotlib.pyplot as plt\n",
        "from keras.preprocessing import image\n",
        "from tensorflow.keras.utils import to_categorical"
      ],
      "execution_count": null,
      "outputs": []
    },
    {
      "cell_type": "code",
      "metadata": {
        "id": "Z1x9RWEatuNr"
      },
      "source": [
        "img_data_list1=[]\n",
        "img_data_list2=[]\n",
        "img_data_list3=[]\n",
        "img_data_list4=[]\n",
        "\n",
        "label_list1=[]\n",
        "label_list2=[]\n",
        "label_list3=[]\n",
        "label_list4=[]\n",
        "\n",
        "count = 0\n",
        "for img in os.listdir(DATADIR):\n",
        "  img_array = cv2.imread(os.path.join(DATADIR,img))\n",
        "  new_array = cv2.resize(img_array,(150,200))\n",
        "  img_tensor = image.img_to_array(new_array)\n",
        "  if img[4:5]=='0' or img[4:5]=='6':\n",
        "    img_data_list1.append(img_tensor)\n",
        "    label_list1.append(img[0:3])\n",
        "  if img[4:5]=='1' or img[4:5]=='5':\n",
        "    img_data_list2.append(img_tensor)\n",
        "    label_list2.append(img[0:3])\n",
        "  if img[4:5]=='2' or img[4:5]=='4':\n",
        "    img_data_list3.append(img_tensor)\n",
        "    label_list3.append(img[0:3])\n",
        "  if img[4:5]=='3':\n",
        "    img_data_list4.append(img_tensor)\n",
        "    label_list4.append(img[0:3])"
      ],
      "execution_count": null,
      "outputs": []
    },
    {
      "cell_type": "code",
      "metadata": {
        "id": "ULQP_0z_tyBp"
      },
      "source": [
        "train_img = np.array(img_data_list1)\n",
        "train_img = np.append(train_img,np.array(img_data_list2),axis=0)\n",
        "train_img = np.append(train_img,np.array(img_data_list3),axis=0)\n",
        "\n",
        "train_img/=255\n",
        "\n",
        "train_label = np.array(label_list1)\n",
        "train_label = np.append(train_label,np.array(label_list2),axis=0)\n",
        "train_label = np.append(train_label,np.array(label_list3),axis=0)\n",
        "\n",
        "test_img = np.array(img_data_list3)\n",
        "\n",
        "test_img/=255\n",
        "\n",
        "test_label = np.array(label_list3)\n",
        "\n",
        "validate_img = np.array(img_data_list4)\n",
        "\n",
        "validate_img/=255\n",
        "\n",
        "validate_label = np.array(label_list4)"
      ],
      "execution_count": null,
      "outputs": []
    },
    {
      "cell_type": "code",
      "metadata": {
        "colab": {
          "base_uri": "https://localhost:8080/"
        },
        "id": "BTcXg7MsP-Ct",
        "outputId": "1d71bbab-5595-4e7d-cb30-8806ce78a1a5"
      },
      "source": [
        "print(train_img.shape,validate_img.shape)"
      ],
      "execution_count": null,
      "outputs": [
        {
          "output_type": "stream",
          "text": [
            "(648, 200, 150, 3) (108, 200, 150, 3)\n"
          ],
          "name": "stdout"
        }
      ]
    },
    {
      "cell_type": "code",
      "metadata": {
        "id": "LpY1YsDSiPiN",
        "colab": {
          "base_uri": "https://localhost:8080/"
        },
        "outputId": "b25b055c-9712-4c4e-8b3d-8380ebd02f1f"
      },
      "source": [
        "train_label = np.array(train_label)\n",
        "test_label = np.array(test_label)\n",
        "train_label = to_categorical(train_label)\n",
        "test_label = to_categorical(test_label)\n",
        "validate_label = to_categorical(validate_label)\n",
        "num_classes = train_label.shape[1]\n",
        "print('data normalized and hot encoded')\n",
        "print(num_classes)"
      ],
      "execution_count": null,
      "outputs": [
        {
          "output_type": "stream",
          "text": [
            "data normalized and hot encoded\n",
            "109\n"
          ],
          "name": "stdout"
        }
      ]
    },
    {
      "cell_type": "code",
      "metadata": {
        "id": "bN_CLmmwjeWQ",
        "colab": {
          "base_uri": "https://localhost:8080/"
        },
        "outputId": "d6bf7770-dfe8-4a88-dd68-49afc1d14854"
      },
      "source": [
        "print('after conversion to one-hot:',train_label[0])"
      ],
      "execution_count": null,
      "outputs": [
        {
          "output_type": "stream",
          "text": [
            "after conversion to one-hot: [0. 0. 0. 0. 0. 0. 0. 0. 0. 0. 0. 0. 0. 0. 0. 0. 0. 0. 0. 0. 0. 0. 0. 0.\n",
            " 0. 0. 0. 0. 0. 0. 0. 0. 0. 0. 0. 0. 0. 0. 0. 0. 0. 0. 0. 0. 0. 0. 0. 0.\n",
            " 0. 0. 0. 0. 0. 0. 0. 0. 0. 0. 0. 0. 0. 0. 0. 0. 0. 0. 0. 0. 0. 0. 0. 0.\n",
            " 0. 0. 0. 0. 0. 0. 0. 0. 0. 0. 0. 0. 0. 0. 0. 0. 0. 0. 0. 0. 0. 0. 0. 0.\n",
            " 0. 0. 0. 0. 0. 0. 0. 0. 0. 0. 0. 0. 1.]\n"
          ],
          "name": "stdout"
        }
      ]
    },
    {
      "cell_type": "code",
      "metadata": {
        "id": "mgk9WE8-7oeg"
      },
      "source": [
        "from tensorflow.keras.models import Sequential\n",
        "from tensorflow.keras.layers import Conv2D\n",
        "from tensorflow.keras.layers import BatchNormalization\n",
        "from tensorflow.keras.layers import MaxPooling2D\n",
        "from tensorflow.keras.layers import Activation\n",
        "from tensorflow.keras.layers import Dense\n",
        "from tensorflow.keras.layers import Flatten\n",
        "from tensorflow.keras.layers import Dropout\n",
        "from tensorflow.keras.optimizers import SGD"
      ],
      "execution_count": null,
      "outputs": []
    },
    {
      "cell_type": "code",
      "metadata": {
        "colab": {
          "base_uri": "https://localhost:8080/"
        },
        "id": "haS4k2Z26XpZ",
        "outputId": "7a401889-3d25-44a0-95f4-bd4dcc6703fa"
      },
      "source": [
        "chanDim = -1\n",
        "model = Sequential()\n",
        "model.add(Conv2D(32,(3,3),padding='same',input_shape=(200,150,3)))\n",
        "model.add(Activation('relu'))\n",
        "model.add(BatchNormalization(axis=chanDim))\n",
        "model.add(Conv2D(32,(3,3),padding='same'))\n",
        "model.add(Activation('relu'))\n",
        "model.add(BatchNormalization(axis=chanDim))\n",
        "model.add(MaxPooling2D(pool_size=(2,2)))\n",
        "model.add(Dropout(0.25))\n",
        "        \n",
        "#Second conv => relu => con => relu => pool layer set\n",
        "model.add(Conv2D(64,(3,3),padding='same'))\n",
        "model.add(Activation('relu'))\n",
        "model.add(BatchNormalization(axis=chanDim))\n",
        "model.add(Conv2D(64,(3,3),padding='same'))\n",
        "model.add(Activation('relu'))\n",
        "model.add(BatchNormalization(axis=chanDim))\n",
        "model.add(MaxPooling2D(pool_size=(2,2)))\n",
        "model.add(Dropout(0.25))\n",
        "        \n",
        "# first(and only) set of FC => RELU layers\n",
        "model.add(Flatten())\n",
        "model.add(Dense(512))\n",
        "model.add(Activation(\"relu\"))\n",
        "model.add(BatchNormalization())\n",
        "model.add(Dropout(0.5))\n",
        "\n",
        "#softmax classifier\n",
        "model.add(Dense(109))\n",
        "model.add(Activation(\"softmax\"))\n",
        "model.summary()"
      ],
      "execution_count": null,
      "outputs": [
        {
          "output_type": "stream",
          "text": [
            "Model: \"sequential_1\"\n",
            "_________________________________________________________________\n",
            "Layer (type)                 Output Shape              Param #   \n",
            "=================================================================\n",
            "conv2d_4 (Conv2D)            (None, 200, 150, 32)      896       \n",
            "_________________________________________________________________\n",
            "activation_6 (Activation)    (None, 200, 150, 32)      0         \n",
            "_________________________________________________________________\n",
            "batch_normalization_5 (Batch (None, 200, 150, 32)      128       \n",
            "_________________________________________________________________\n",
            "conv2d_5 (Conv2D)            (None, 200, 150, 32)      9248      \n",
            "_________________________________________________________________\n",
            "activation_7 (Activation)    (None, 200, 150, 32)      0         \n",
            "_________________________________________________________________\n",
            "batch_normalization_6 (Batch (None, 200, 150, 32)      128       \n",
            "_________________________________________________________________\n",
            "max_pooling2d_2 (MaxPooling2 (None, 100, 75, 32)       0         \n",
            "_________________________________________________________________\n",
            "dropout_3 (Dropout)          (None, 100, 75, 32)       0         \n",
            "_________________________________________________________________\n",
            "conv2d_6 (Conv2D)            (None, 100, 75, 64)       18496     \n",
            "_________________________________________________________________\n",
            "activation_8 (Activation)    (None, 100, 75, 64)       0         \n",
            "_________________________________________________________________\n",
            "batch_normalization_7 (Batch (None, 100, 75, 64)       256       \n",
            "_________________________________________________________________\n",
            "conv2d_7 (Conv2D)            (None, 100, 75, 64)       36928     \n",
            "_________________________________________________________________\n",
            "activation_9 (Activation)    (None, 100, 75, 64)       0         \n",
            "_________________________________________________________________\n",
            "batch_normalization_8 (Batch (None, 100, 75, 64)       256       \n",
            "_________________________________________________________________\n",
            "max_pooling2d_3 (MaxPooling2 (None, 50, 37, 64)        0         \n",
            "_________________________________________________________________\n",
            "dropout_4 (Dropout)          (None, 50, 37, 64)        0         \n",
            "_________________________________________________________________\n",
            "flatten_1 (Flatten)          (None, 118400)            0         \n",
            "_________________________________________________________________\n",
            "dense_2 (Dense)              (None, 512)               60621312  \n",
            "_________________________________________________________________\n",
            "activation_10 (Activation)   (None, 512)               0         \n",
            "_________________________________________________________________\n",
            "batch_normalization_9 (Batch (None, 512)               2048      \n",
            "_________________________________________________________________\n",
            "dropout_5 (Dropout)          (None, 512)               0         \n",
            "_________________________________________________________________\n",
            "dense_3 (Dense)              (None, 109)               55917     \n",
            "_________________________________________________________________\n",
            "activation_11 (Activation)   (None, 109)               0         \n",
            "=================================================================\n",
            "Total params: 60,745,613\n",
            "Trainable params: 60,744,205\n",
            "Non-trainable params: 1,408\n",
            "_________________________________________________________________\n"
          ],
          "name": "stdout"
        }
      ]
    },
    {
      "cell_type": "code",
      "metadata": {
        "id": "I--tMkYN8Qf_"
      },
      "source": [
        "epochs=50\n",
        "lrate = 0.01\n",
        "decay = lrate/epochs\n",
        "sgd = SGD(lr=lrate,momentum=0.9,decay=decay,nesterov=False)\n",
        "model.compile(loss='categorical_crossentropy',optimizer=sgd,metrics=['accuracy'])"
      ],
      "execution_count": null,
      "outputs": []
    },
    {
      "cell_type": "code",
      "metadata": {
        "colab": {
          "base_uri": "https://localhost:8080/"
        },
        "id": "z5WUMrCp8fNP",
        "outputId": "be377a09-b8bc-404e-9def-9e569a7c1016"
      },
      "source": [
        "model.fit = model.fit(train_img,train_label,validation_data=(validate_img,validate_label),epochs=epochs,batch_size=16)"
      ],
      "execution_count": null,
      "outputs": [
        {
          "output_type": "stream",
          "text": [
            "Epoch 1/50\n",
            "41/41 [==============================] - 2s 39ms/step - loss: 3.9710 - accuracy: 0.2551 - val_loss: 120.8267 - val_accuracy: 0.0093\n",
            "Epoch 2/50\n",
            "41/41 [==============================] - 1s 31ms/step - loss: 0.2612 - accuracy: 0.9644 - val_loss: 15.2138 - val_accuracy: 0.0648\n",
            "Epoch 3/50\n",
            "41/41 [==============================] - 1s 31ms/step - loss: 0.1487 - accuracy: 0.9827 - val_loss: 1.5868 - val_accuracy: 0.5648\n",
            "Epoch 4/50\n",
            "41/41 [==============================] - 1s 31ms/step - loss: 0.0296 - accuracy: 0.9968 - val_loss: 0.4509 - val_accuracy: 0.9815\n",
            "Epoch 5/50\n",
            "41/41 [==============================] - 1s 31ms/step - loss: 0.0967 - accuracy: 0.9872 - val_loss: 0.3132 - val_accuracy: 0.9907\n",
            "Epoch 6/50\n",
            "41/41 [==============================] - 1s 32ms/step - loss: 0.0491 - accuracy: 0.9924 - val_loss: 0.2999 - val_accuracy: 0.9907\n",
            "Epoch 7/50\n",
            "41/41 [==============================] - 1s 31ms/step - loss: 0.0911 - accuracy: 0.9869 - val_loss: 0.2069 - val_accuracy: 0.9907\n",
            "Epoch 8/50\n",
            "41/41 [==============================] - 1s 31ms/step - loss: 0.0492 - accuracy: 0.9908 - val_loss: 0.1931 - val_accuracy: 0.9907\n",
            "Epoch 9/50\n",
            "41/41 [==============================] - 1s 31ms/step - loss: 0.0511 - accuracy: 0.9863 - val_loss: 0.1957 - val_accuracy: 0.9907\n",
            "Epoch 10/50\n",
            "41/41 [==============================] - 1s 31ms/step - loss: 0.0749 - accuracy: 0.9852 - val_loss: 0.1366 - val_accuracy: 0.9907\n",
            "Epoch 11/50\n",
            "41/41 [==============================] - 1s 31ms/step - loss: 0.0528 - accuracy: 0.9905 - val_loss: 0.1463 - val_accuracy: 0.9907\n",
            "Epoch 12/50\n",
            "41/41 [==============================] - 1s 31ms/step - loss: 0.0877 - accuracy: 0.9839 - val_loss: 0.1727 - val_accuracy: 0.9907\n",
            "Epoch 13/50\n",
            "41/41 [==============================] - 1s 31ms/step - loss: 0.0453 - accuracy: 0.9924 - val_loss: 0.1573 - val_accuracy: 0.9907\n",
            "Epoch 14/50\n",
            "41/41 [==============================] - 1s 31ms/step - loss: 0.0134 - accuracy: 0.9992 - val_loss: 0.1423 - val_accuracy: 0.9907\n",
            "Epoch 15/50\n",
            "41/41 [==============================] - 1s 31ms/step - loss: 0.0363 - accuracy: 0.9917 - val_loss: 0.1619 - val_accuracy: 0.9907\n",
            "Epoch 16/50\n",
            "41/41 [==============================] - 1s 31ms/step - loss: 0.0945 - accuracy: 0.9862 - val_loss: 0.1529 - val_accuracy: 0.9907\n",
            "Epoch 17/50\n",
            "41/41 [==============================] - 1s 30ms/step - loss: 0.0433 - accuracy: 0.9936 - val_loss: 0.1171 - val_accuracy: 0.9907\n",
            "Epoch 18/50\n",
            "41/41 [==============================] - 1s 31ms/step - loss: 0.0384 - accuracy: 0.9923 - val_loss: 0.1094 - val_accuracy: 0.9907\n",
            "Epoch 19/50\n",
            "41/41 [==============================] - 1s 32ms/step - loss: 0.0476 - accuracy: 0.9922 - val_loss: 0.1174 - val_accuracy: 0.9907\n",
            "Epoch 20/50\n",
            "41/41 [==============================] - 1s 31ms/step - loss: 0.0219 - accuracy: 0.9949 - val_loss: 0.1121 - val_accuracy: 0.9907\n",
            "Epoch 21/50\n",
            "41/41 [==============================] - 1s 31ms/step - loss: 0.0705 - accuracy: 0.9901 - val_loss: 0.1454 - val_accuracy: 0.9907\n",
            "Epoch 22/50\n",
            "41/41 [==============================] - 1s 33ms/step - loss: 0.0389 - accuracy: 0.9922 - val_loss: 0.1075 - val_accuracy: 0.9907\n",
            "Epoch 23/50\n",
            "41/41 [==============================] - 1s 32ms/step - loss: 0.0658 - accuracy: 0.9823 - val_loss: 0.1677 - val_accuracy: 0.9907\n",
            "Epoch 24/50\n",
            "41/41 [==============================] - 1s 31ms/step - loss: 0.1476 - accuracy: 0.9886 - val_loss: 0.1145 - val_accuracy: 0.9907\n",
            "Epoch 25/50\n",
            "41/41 [==============================] - 1s 31ms/step - loss: 0.0257 - accuracy: 0.9922 - val_loss: 0.1215 - val_accuracy: 0.9907\n",
            "Epoch 26/50\n",
            "41/41 [==============================] - 1s 31ms/step - loss: 0.1132 - accuracy: 0.9818 - val_loss: 0.1212 - val_accuracy: 0.9907\n",
            "Epoch 27/50\n",
            "41/41 [==============================] - 1s 31ms/step - loss: 0.0878 - accuracy: 0.9847 - val_loss: 0.1245 - val_accuracy: 0.9907\n",
            "Epoch 28/50\n",
            "41/41 [==============================] - 1s 32ms/step - loss: 0.0306 - accuracy: 0.9926 - val_loss: 0.1176 - val_accuracy: 0.9907\n",
            "Epoch 29/50\n",
            "41/41 [==============================] - 1s 32ms/step - loss: 0.0402 - accuracy: 0.9878 - val_loss: 0.1230 - val_accuracy: 0.9907\n",
            "Epoch 30/50\n",
            "41/41 [==============================] - 1s 32ms/step - loss: 0.0339 - accuracy: 0.9912 - val_loss: 0.1100 - val_accuracy: 0.9907\n",
            "Epoch 31/50\n",
            "41/41 [==============================] - 1s 32ms/step - loss: 0.0357 - accuracy: 0.9927 - val_loss: 0.0961 - val_accuracy: 0.9907\n",
            "Epoch 32/50\n",
            "41/41 [==============================] - 1s 32ms/step - loss: 0.0343 - accuracy: 0.9901 - val_loss: 0.1120 - val_accuracy: 0.9907\n",
            "Epoch 33/50\n",
            "41/41 [==============================] - 1s 32ms/step - loss: 0.0380 - accuracy: 0.9902 - val_loss: 0.1004 - val_accuracy: 0.9907\n",
            "Epoch 34/50\n",
            "41/41 [==============================] - 1s 31ms/step - loss: 0.0449 - accuracy: 0.9916 - val_loss: 0.1351 - val_accuracy: 0.9815\n",
            "Epoch 35/50\n",
            "41/41 [==============================] - 1s 31ms/step - loss: 0.0254 - accuracy: 0.9913 - val_loss: 0.1033 - val_accuracy: 0.9907\n",
            "Epoch 36/50\n",
            "41/41 [==============================] - 1s 31ms/step - loss: 0.0823 - accuracy: 0.9868 - val_loss: 0.0993 - val_accuracy: 0.9907\n",
            "Epoch 37/50\n",
            "41/41 [==============================] - 1s 31ms/step - loss: 0.0498 - accuracy: 0.9880 - val_loss: 0.0962 - val_accuracy: 0.9907\n",
            "Epoch 38/50\n",
            "41/41 [==============================] - 1s 32ms/step - loss: 0.0569 - accuracy: 0.9849 - val_loss: 0.0920 - val_accuracy: 0.9907\n",
            "Epoch 39/50\n",
            "41/41 [==============================] - 1s 32ms/step - loss: 0.0285 - accuracy: 0.9943 - val_loss: 0.1369 - val_accuracy: 0.9907\n",
            "Epoch 40/50\n",
            "41/41 [==============================] - 1s 32ms/step - loss: 0.0668 - accuracy: 0.9895 - val_loss: 0.0941 - val_accuracy: 0.9907\n",
            "Epoch 41/50\n",
            "41/41 [==============================] - 1s 31ms/step - loss: 0.0248 - accuracy: 0.9937 - val_loss: 0.0982 - val_accuracy: 0.9907\n",
            "Epoch 42/50\n",
            "41/41 [==============================] - 1s 31ms/step - loss: 0.0249 - accuracy: 0.9918 - val_loss: 0.1144 - val_accuracy: 0.9907\n",
            "Epoch 43/50\n",
            "41/41 [==============================] - 1s 32ms/step - loss: 0.0655 - accuracy: 0.9838 - val_loss: 0.1015 - val_accuracy: 0.9907\n",
            "Epoch 44/50\n",
            "41/41 [==============================] - 1s 32ms/step - loss: 0.0458 - accuracy: 0.9840 - val_loss: 0.1050 - val_accuracy: 0.9907\n",
            "Epoch 45/50\n",
            "41/41 [==============================] - 1s 31ms/step - loss: 0.0134 - accuracy: 0.9954 - val_loss: 0.1172 - val_accuracy: 0.9907\n",
            "Epoch 46/50\n",
            "41/41 [==============================] - 1s 32ms/step - loss: 0.0640 - accuracy: 0.9890 - val_loss: 0.1103 - val_accuracy: 0.9907\n",
            "Epoch 47/50\n",
            "41/41 [==============================] - 1s 31ms/step - loss: 0.0449 - accuracy: 0.9858 - val_loss: 0.0988 - val_accuracy: 0.9907\n",
            "Epoch 48/50\n",
            "41/41 [==============================] - 1s 32ms/step - loss: 0.0545 - accuracy: 0.9834 - val_loss: 0.0964 - val_accuracy: 0.9907\n",
            "Epoch 49/50\n",
            "41/41 [==============================] - 1s 32ms/step - loss: 0.0321 - accuracy: 0.9916 - val_loss: 0.0904 - val_accuracy: 0.9907\n",
            "Epoch 50/50\n",
            "41/41 [==============================] - 1s 31ms/step - loss: 0.0589 - accuracy: 0.9876 - val_loss: 0.0924 - val_accuracy: 0.9907\n"
          ],
          "name": "stdout"
        }
      ]
    },
    {
      "cell_type": "code",
      "metadata": {
        "id": "BlvmrkaNRFNV",
        "colab": {
          "base_uri": "https://localhost:8080/",
          "height": 603
        },
        "outputId": "096ed3ff-da4c-475d-9f97-b2a4437e3a1a"
      },
      "source": [
        "train_loss = model.fit.history['loss']\n",
        "val_loss = model.fit.history['val_loss']\n",
        "train_acc = model.fit.history['accuracy']\n",
        "val_acc = model.fit.history['val_accuracy']\n",
        "xc = range(epochs)\n",
        "\n",
        "plt.figure(figsize=(20,10))\n",
        "plt.plot(range(50),train_acc,label = 'Train accuracy')\n",
        "plt.plot(range(50),val_acc,label='Test accuracy')\n",
        "plt.legend(loc='upper left',prop={'size':20})\n",
        "plt.title('Train and Test Accuracy plot',size=20)\n",
        "plt.xlabel('Epochs',size=20)\n",
        "plt.ylabel('Accuracy',size=20)\n",
        "plt.savefig('/content/drive/MyDrive/Colab Notebooks/PRE_TRAINED_MODEL/accururacy.png')\n",
        "plt.show()"
      ],
      "execution_count": null,
      "outputs": [
        {
          "output_type": "display_data",
          "data": {
            "image/png": "[encoded data removed]",
            "text/plain": [
              "<Figure size 1440x720 with 1 Axes>"
            ]
          },
          "metadata": {
            "tags": [],
            "needs_background": "light"
          }
        }
      ]
    },
    {
      "cell_type": "code",
      "metadata": {
        "id": "6wCxgzE4wJ7p"
      },
      "source": [
        "from sklearn.metrics import confusion_matrix\n",
        "from sklearn.metrics import classification_report"
      ],
      "execution_count": null,
      "outputs": []
    },
    {
      "cell_type": "code",
      "metadata": {
        "id": "WWVlMNmaw3dG"
      },
      "source": [
        "l=model.predict(validate_img)\n",
        "v=[]\n",
        "for i in l:\n",
        "  v.append(i.argmax())"
      ],
      "execution_count": null,
      "outputs": []
    },
    {
      "cell_type": "code",
      "metadata": {
        "id": "PL4TcL26xkEH"
      },
      "source": [
        "v1=[]\n",
        "for i in validate_label:\n",
        "  v1.append(i.argmax())"
      ],
      "execution_count": null,
      "outputs": []
    },
    {
      "cell_type": "code",
      "metadata": {
        "id": "WbJEhYmAxXoW",
        "colab": {
          "base_uri": "https://localhost:8080/"
        },
        "outputId": "785fee5d-5099-4ea5-ed52-f788c5ebefce"
      },
      "source": [
        "print(len(v))\n",
        "print(len(v1))"
      ],
      "execution_count": null,
      "outputs": [
        {
          "output_type": "stream",
          "text": [
            "108\n",
            "108\n"
          ],
          "name": "stdout"
        }
      ]
    },
    {
      "cell_type": "code",
      "metadata": {
        "id": "81H3_5_RwMg7",
        "colab": {
          "base_uri": "https://localhost:8080/",
          "height": 345
        },
        "outputId": "b45ebd5a-2536-4e79-9b9e-f372d911c392"
      },
      "source": [
        "print(plt.imshow(confusion_matrix(v,v1),interpolation='nearest'))\n",
        "plt.title(\"Confusion matrix\")\n",
        "plt.colorbar()\n",
        "plt.tight_layout()\n",
        "plt.ylabel('True label')\n",
        "plt.xlabel('Predicted label')"
      ],
      "execution_count": null,
      "outputs": [
        {
          "output_type": "stream",
          "text": [
            "AxesImage(54,36;334.8x217.44)\n"
          ],
          "name": "stdout"
        },
        {
          "output_type": "execute_result",
          "data": {
            "text/plain": [
              "Text(0.5, 15.0, 'Predicted label')"
            ]
          },
          "metadata": {
            "tags": []
          },
          "execution_count": 60
        },
        {
          "output_type": "display_data",
          "data": {
            "image/png": "[encoded data removed]",
            "text/plain": [
              "<Figure size 432x288 with 2 Axes>"
            ]
          },
          "metadata": {
            "tags": [],
            "needs_background": "light"
          }
        }
      ]
    },
    {
      "cell_type": "code",
      "metadata": {
        "id": "VpG1PW6PyLKi",
        "colab": {
          "base_uri": "https://localhost:8080/"
        },
        "outputId": "af6cc01e-fe5b-469e-9f34-ac53d819fd8f"
      },
      "source": [
        "print(classification_report(v,v1))"
      ],
      "execution_count": null,
      "outputs": [
        {
          "output_type": "stream",
          "text": [
            "              precision    recall  f1-score   support\n",
            "\n",
            "           1       1.00      1.00      1.00         1\n",
            "           2       1.00      1.00      1.00         1\n",
            "           3       1.00      1.00      1.00         1\n",
            "           4       1.00      1.00      1.00         1\n",
            "           5       1.00      1.00      1.00         1\n",
            "           6       1.00      1.00      1.00         1\n",
            "           7       1.00      1.00      1.00         1\n",
            "           8       1.00      1.00      1.00         1\n",
            "           9       1.00      1.00      1.00         1\n",
            "          10       1.00      1.00      1.00         1\n",
            "          11       1.00      1.00      1.00         1\n",
            "          12       1.00      1.00      1.00         1\n",
            "          13       1.00      1.00      1.00         1\n",
            "          14       1.00      1.00      1.00         1\n",
            "          15       1.00      1.00      1.00         1\n",
            "          16       1.00      1.00      1.00         1\n",
            "          17       1.00      1.00      1.00         1\n",
            "          18       1.00      1.00      1.00         1\n",
            "          19       1.00      1.00      1.00         1\n",
            "          20       1.00      1.00      1.00         1\n",
            "          21       1.00      1.00      1.00         1\n",
            "          22       1.00      1.00      1.00         1\n",
            "          23       1.00      1.00      1.00         1\n",
            "          24       1.00      1.00      1.00         1\n",
            "          25       1.00      1.00      1.00         1\n",
            "          26       1.00      1.00      1.00         1\n",
            "          27       1.00      1.00      1.00         1\n",
            "          28       1.00      1.00      1.00         1\n",
            "          29       1.00      1.00      1.00         1\n",
            "          30       1.00      1.00      1.00         1\n",
            "          31       1.00      1.00      1.00         1\n",
            "          32       1.00      1.00      1.00         1\n",
            "          33       1.00      1.00      1.00         1\n",
            "          34       1.00      1.00      1.00         1\n",
            "          35       1.00      1.00      1.00         1\n",
            "          36       1.00      1.00      1.00         1\n",
            "          37       1.00      1.00      1.00         1\n",
            "          38       1.00      1.00      1.00         1\n",
            "          39       1.00      1.00      1.00         1\n",
            "          40       1.00      1.00      1.00         1\n",
            "          41       1.00      1.00      1.00         1\n",
            "          42       1.00      1.00      1.00         1\n",
            "          43       1.00      1.00      1.00         1\n",
            "          44       1.00      1.00      1.00         1\n",
            "          45       1.00      1.00      1.00         1\n",
            "          46       1.00      1.00      1.00         1\n",
            "          47       1.00      1.00      1.00         1\n",
            "          48       1.00      1.00      1.00         1\n",
            "          49       1.00      1.00      1.00         1\n",
            "          50       1.00      1.00      1.00         1\n",
            "          51       1.00      1.00      1.00         1\n",
            "          52       1.00      1.00      1.00         1\n",
            "          53       1.00      1.00      1.00         1\n",
            "          54       1.00      1.00      1.00         1\n",
            "          55       1.00      1.00      1.00         1\n",
            "          56       1.00      1.00      1.00         1\n",
            "          57       1.00      1.00      1.00         1\n",
            "          58       1.00      1.00      1.00         1\n",
            "          59       1.00      1.00      1.00         1\n",
            "          60       1.00      1.00      1.00         1\n",
            "          61       1.00      1.00      1.00         1\n",
            "          62       1.00      1.00      1.00         1\n",
            "          63       1.00      1.00      1.00         1\n",
            "          64       1.00      1.00      1.00         1\n",
            "          65       0.00      0.00      0.00         0\n",
            "          66       1.00      0.50      0.67         2\n",
            "          67       1.00      1.00      1.00         1\n",
            "          68       1.00      1.00      1.00         1\n",
            "          69       1.00      1.00      1.00         1\n",
            "          70       1.00      1.00      1.00         1\n",
            "          71       1.00      1.00      1.00         1\n",
            "          72       1.00      1.00      1.00         1\n",
            "          73       1.00      1.00      1.00         1\n",
            "          74       1.00      1.00      1.00         1\n",
            "          75       1.00      1.00      1.00         1\n",
            "          76       1.00      1.00      1.00         1\n",
            "          77       1.00      1.00      1.00         1\n",
            "          78       1.00      1.00      1.00         1\n",
            "          79       1.00      1.00      1.00         1\n",
            "          80       1.00      1.00      1.00         1\n",
            "          81       1.00      1.00      1.00         1\n",
            "          82       1.00      1.00      1.00         1\n",
            "          83       1.00      1.00      1.00         1\n",
            "          84       1.00      1.00      1.00         1\n",
            "          85       1.00      1.00      1.00         1\n",
            "          86       1.00      1.00      1.00         1\n",
            "          87       1.00      1.00      1.00         1\n",
            "          88       1.00      1.00      1.00         1\n",
            "          89       1.00      1.00      1.00         1\n",
            "          90       1.00      1.00      1.00         1\n",
            "          91       1.00      1.00      1.00         1\n",
            "          92       1.00      1.00      1.00         1\n",
            "          93       1.00      1.00      1.00         1\n",
            "          94       1.00      1.00      1.00         1\n",
            "          95       1.00      1.00      1.00         1\n",
            "          96       1.00      1.00      1.00         1\n",
            "          97       1.00      1.00      1.00         1\n",
            "          98       1.00      1.00      1.00         1\n",
            "          99       1.00      1.00      1.00         1\n",
            "         100       1.00      1.00      1.00         1\n",
            "         101       1.00      1.00      1.00         1\n",
            "         102       1.00      1.00      1.00         1\n",
            "         103       1.00      1.00      1.00         1\n",
            "         104       1.00      1.00      1.00         1\n",
            "         105       1.00      1.00      1.00         1\n",
            "         106       1.00      1.00      1.00         1\n",
            "         107       1.00      1.00      1.00         1\n",
            "         108       1.00      1.00      1.00         1\n",
            "\n",
            "    accuracy                           0.99       108\n",
            "   macro avg       0.99      0.99      0.99       108\n",
            "weighted avg       1.00      0.99      0.99       108\n",
            "\n"
          ],
          "name": "stdout"
        },
        {
          "output_type": "stream",
          "text": [
            "/usr/local/lib/python3.7/dist-packages/sklearn/metrics/_classification.py:1272: UndefinedMetricWarning: Recall and F-score are ill-defined and being set to 0.0 in labels with no true samples. Use `zero_division` parameter to control this behavior.\n",
            "  _warn_prf(average, modifier, msg_start, len(result))\n"
          ],
          "name": "stderr"
        }
      ]
    },
    {
      "cell_type": "code",
      "metadata": {
        "id": "DK8k8V6JS58c"
      },
      "source": [
        ""
      ],
      "execution_count": null,
      "outputs": []
    }
  ]
}